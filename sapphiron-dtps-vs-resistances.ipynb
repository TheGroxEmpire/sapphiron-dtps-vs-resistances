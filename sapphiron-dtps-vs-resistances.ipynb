{
 "cells": [
  {
   "cell_type": "code",
   "execution_count": 9,
   "metadata": {},
   "outputs": [],
   "source": [
    "#Source code by Garcia#9023\n",
    "import random\n",
    "import matplotlib.pyplot as plt\n",
    "import numpy as np"
   ]
  },
  {
   "cell_type": "code",
   "execution_count": 33,
   "metadata": {},
   "outputs": [
    {
     "name": "stdout",
     "output_type": "stream",
     "text": [
      "Fight length in seconds (default 360): \n",
      "Value invalid, using default value...\n",
      "Resistance used (default 315): 33\n",
      "Number of repetitions (default 10000): \n",
      "Value invalid, using default value...\n",
      "Using petrified scarab on CD?[yes/no] (default no):\n",
      "Not using petrified scarab...\n",
      "Average damage taken: 100471.89\n",
      "Average DTPS: 279.09\n",
      "Press Enter to continue...\n"
     ]
    },
    {
     "data": {
      "text/plain": [
       "''"
      ]
     },
     "execution_count": 33,
     "metadata": {},
     "output_type": "execute_result"
    }
   ],
   "source": [
    "#Petrified Scarab\n",
    "sec = input(\"Fight length in seconds (default 360): \")\n",
    "try:\n",
    "    sec = int(sec)\n",
    "    if sec <= 0:\n",
    "        sec = 360\n",
    "except ValueError:\n",
    "    print(\"Value invalid, using default value...\")\n",
    "    sec = 360\n",
    "\n",
    "res = input(\"Resistance used (default 315): \")\n",
    "try:\n",
    "    res = int(res)\n",
    "    if res < 0:\n",
    "        res = 315\n",
    "except ValueError:\n",
    "    print(\"Value invalid, using default value...\")\n",
    "    res = 315\n",
    "\n",
    "rep = input(\"Number of repetitions (default 10000): \")\n",
    "try:\n",
    "    rep = int(rep)\n",
    "    if rep <= 0:\n",
    "        rep = 10000    \n",
    "except ValueError:\n",
    "    print(\"Value invalid, using default value...\")\n",
    "    rep = 10000\n",
    "    \n",
    "scarab = input(\"Using petrified scarab on CD?[yes/no] (default no):\")\n",
    "if scarab != 'yes':\n",
    "    print(\"Not using petrified scarab...\")\n",
    "    scarab = 0\n",
    "else:\n",
    "    scarab = 1\n",
    "\n",
    "avgRes = min(0.75, (res/(63 * 5))*0.75)\n",
    "auraInterval = 2\n",
    "tickInterval = 1\n",
    "auraDuration = 5\n",
    "tickDmg = 600\n",
    "scarabCooldown = 180\n",
    "scarabEffect = 100\n",
    "\n",
    "totalDmg = 0\n",
    "\n",
    "for i in range(rep):\n",
    "    auraApplied = 0\n",
    "    for j in range(sec):\n",
    "        if scarab:\n",
    "            if j % scarabCooldown == 0:\n",
    "                avgRes = min(0.75, ((res + scarabEffect)/(63 * 5))*0.75)\n",
    "                scarabCount = 0\n",
    "            scarabCount += 1\n",
    "            if scarabCount == 60:\n",
    "                avgRes = min(0.75, ((res/(63 * 5))*0.75))\n",
    "        if j % auraInterval == 0:\n",
    "            rnd = random.randint(0, 100)\n",
    "            if rnd != 1:\n",
    "                auraApplied = auraDuration\n",
    "                continue\n",
    "        if j % tickInterval == 0:\n",
    "            if auraApplied > 0:\n",
    "                totalDmg += tickDmg*(1-avgRes)\n",
    "                auraApplied -= tickInterval\n",
    "\n",
    "totalDmg /= rep\n",
    "print(\"Average damage taken: %.2f\"% totalDmg)\n",
    "dtps = totalDmg/sec\n",
    "print(\"Average DTPS: %.2f\"% dtps)\n",
    "input(\"Press Enter to continue...\")"
   ]
  },
  {
   "cell_type": "code",
   "execution_count": 15,
   "metadata": {},
   "outputs": [
    {
     "data": {
      "image/png": "[encoded data removed]",
      "text/plain": [
       "<Figure size 432x288 with 1 Axes>"
      ]
     },
     "metadata": {
      "needs_background": "light"
     },
     "output_type": "display_data"
    }
   ],
   "source": [
    "rep = 1000\n",
    "sec = 360\n",
    "maxResistance = 320\n",
    "\n",
    "auraInterval = 2\n",
    "tickInterval = 1\n",
    "auraDuration = 5\n",
    "tickDmg = 600\n",
    "\n",
    "resArray = []\n",
    "dtpsArray = []\n",
    "\n",
    "for res in range(maxResistance):\n",
    "    avgRes = min(0.75, (res/(63 * 5))*0.75)\n",
    "    totalDmg = 0\n",
    "    for i in range(rep):\n",
    "        auraApplied = 0\n",
    "        for j in range(sec):\n",
    "            if j % auraInterval == 0:\n",
    "                rnd = random.randint(0, 100)\n",
    "                if rnd != 1:\n",
    "                    auraApplied = auraDuration\n",
    "                    continue\n",
    "            if j % tickInterval == 0:\n",
    "                if auraApplied > 0:\n",
    "                    totalDmg += tickDmg*(1-avgRes)\n",
    "                    auraApplied -= tickInterval\n",
    "    totalDmg /= rep\n",
    "    dtps = totalDmg/sec\n",
    "    resArray.append(res)\n",
    "    dtpsArray.append(dtps)\n",
    "\n",
    "plt.plot(resArray, dtpsArray)\n",
    "plt.xlabel('Resistance') \n",
    "plt.ylabel('DTPS') \n",
    "plt.title('Sapphiron Graph')\n",
    "plt.xticks(np.arange(0, maxResistance, 25))\n",
    "plt.yticks(np.arange(0, max(dtpsArray)+25, 25))\n",
    "plt.grid(True)\n",
    "plt.show()"
   ]
  },
  {
   "cell_type": "code",
   "execution_count": 29,
   "metadata": {},
   "outputs": [
    {
     "data": {
      "image/png": "[encoded data removed]",
      "text/plain": [
       "<Figure size 432x288 with 1 Axes>"
      ]
     },
     "metadata": {
      "needs_background": "light"
     },
     "output_type": "display_data"
    }
   ],
   "source": [
    "#Petrified Scarab\n",
    "rep = 1000\n",
    "sec = 360\n",
    "maxResistance = 320\n",
    "\n",
    "auraInterval = 2\n",
    "tickInterval = 1\n",
    "auraDuration = 5\n",
    "tickDmg = 600\n",
    "\n",
    "resArray = []\n",
    "dtpsArray = []\n",
    "\n",
    "for res in range(maxResistance):\n",
    "    avgRes = min(0.75, (res/(63 * 5))*0.75)\n",
    "    totalDmg = 0\n",
    "    for i in range(rep):\n",
    "        auraApplied = 0\n",
    "        for j in range(sec):\n",
    "            if j % scarabCooldown == 0:\n",
    "                avgRes = min(0.75, ((res + scarabEffect)/(63 * 5))*0.75)\n",
    "                scarabCount = 0\n",
    "            scarabCount += 1\n",
    "            if scarabCount == 60:\n",
    "                avgRes = min(0.75, ((res/(63 * 5))*0.75))\n",
    "            if j % auraInterval == 0:\n",
    "                rnd = random.randint(0, 100)\n",
    "                if rnd != 1:\n",
    "                    auraApplied = auraDuration\n",
    "                    continue\n",
    "            if j % tickInterval == 0:\n",
    "                if auraApplied > 0:\n",
    "                    totalDmg += tickDmg*(1-avgRes)\n",
    "                    auraApplied -= tickInterval\n",
    "    totalDmg /= rep\n",
    "    dtps = totalDmg/sec\n",
    "    resArray.append(res)\n",
    "    dtpsArray.append(dtps)\n",
    "\n",
    "plt.plot(resArray, dtpsArray)\n",
    "plt.xlabel('Resistance') \n",
    "plt.ylabel('DTPS') \n",
    "plt.title('Sapphiron Graph with Petrified Scarab')\n",
    "plt.xticks(np.arange(0, maxResistance, 25))\n",
    "plt.yticks(np.arange(0, max(dtpsArray)+25, 25))\n",
    "plt.grid(True)\n",
    "plt.show()"
   ]
  }
 ],
 "metadata": {
  "kernelspec": {
   "display_name": "Python 3",
   "language": "python",
   "name": "python3"
  },
  "language_info": {
   "codemirror_mode": {
    "name": "ipython",
    "version": 3
   },
   "file_extension": ".py",
   "mimetype": "text/x-python",
   "name": "python",
   "nbconvert_exporter": "python",
   "pygments_lexer": "ipython3",
   "version": "3.7.6"
  }
 },
 "nbformat": 4,
 "nbformat_minor": 4
}
